{
 "cells": [
  {
   "cell_type": "code",
   "execution_count": 12,
   "metadata": {},
   "outputs": [
    {
     "data": {
      "text/plain": [
       "[1, 2, 3, 4, 5, 6, 7, 8]"
      ]
     },
     "execution_count": 12,
     "metadata": {},
     "output_type": "execute_result"
    }
   ],
   "source": [
    "array = [5, 7, 4, 2, 8, 1, 6, 3]\n",
    "\n",
    "# bubbleSort(array)\n",
    "# selectionSort(array)\n",
    "# insertionSort(array)\n",
    "mergeSort(array)"
   ]
  },
  {
   "cell_type": "markdown",
   "metadata": {},
   "source": [
    "#### Bubble Sort"
   ]
  },
  {
   "cell_type": "code",
   "execution_count": 2,
   "metadata": {},
   "outputs": [],
   "source": [
    "def bubbleSort(nums):\n",
    "    swapped  = False\n",
    "    \n",
    "    for i in range(len(nums) - 1):\n",
    "        for j in range(len(nums) - 1 - i):\n",
    "            if (nums[j + 1] < nums[j]):\n",
    "                nums[j], nums[j + 1] = nums[j + 1], nums[j]\n",
    "                swapped = True\n",
    "                \n",
    "        if not swapped:\n",
    "            break\n",
    "        \n",
    "    return nums"
   ]
  },
  {
   "cell_type": "markdown",
   "metadata": {},
   "source": [
    "#### Selection Sort"
   ]
  },
  {
   "cell_type": "code",
   "execution_count": 6,
   "metadata": {},
   "outputs": [],
   "source": [
    "def selectionSort(nums):\n",
    "    for i in range(len(nums)):\n",
    "        minIndex = i\n",
    "        \n",
    "        for j in range(i + 1, len(nums)):\n",
    "            if nums[j] < nums[minIndex]:\n",
    "                minIndex = j\n",
    "                \n",
    "        if minIndex != i:\n",
    "            nums[i], nums[minIndex] = nums[minIndex], nums[i]\n",
    "            \n",
    "    return nums"
   ]
  },
  {
   "cell_type": "markdown",
   "metadata": {},
   "source": [
    "#### Insertion Sort"
   ]
  },
  {
   "cell_type": "code",
   "execution_count": 30,
   "metadata": {},
   "outputs": [],
   "source": [
    "def insertionSort(nums):\n",
    "    for i in range(1, len(nums)):\n",
    "        key = nums[i]\n",
    "        j = i - 1\n",
    "        \n",
    "        while j >= 0 and key < nums[j]:\n",
    "            nums[j + 1] = nums[j]\n",
    "            j -= 1\n",
    "            \n",
    "        nums[j + 1] = key\n",
    "        \n",
    "    return nums"
   ]
  },
  {
   "cell_type": "markdown",
   "metadata": {},
   "source": [
    "#### Merge Sort"
   ]
  },
  {
   "cell_type": "code",
   "execution_count": 11,
   "metadata": {},
   "outputs": [],
   "source": [
    "def merge(nums, low, mid, high):\n",
    "    # Create temporary subarrays\n",
    "    left = nums[low:mid + 1]\n",
    "    right = nums[mid + 1:high + 1]\n",
    "    \n",
    "    i = j = 0  # Pointers for left and right subarrays\n",
    "    k = low    # Pointer for the merged array\n",
    "    \n",
    "    # Merge the two subarrays\n",
    "    while i < len(left) and j < len(right):\n",
    "        if left[i] < right[j]:\n",
    "            nums[k] = left[i]\n",
    "            i += 1\n",
    "        else:\n",
    "            nums[k] = right[j]\n",
    "            j += 1\n",
    "        k += 1\n",
    "    \n",
    "    # Copy any remaining elements from the left subarray\n",
    "    while i < len(left):\n",
    "        nums[k] = left[i]\n",
    "        i += 1\n",
    "        k += 1\n",
    "    \n",
    "    # Copy any remaining elements from the right subarray\n",
    "    while j < len(right):\n",
    "        nums[k] = right[j]\n",
    "        j += 1\n",
    "        k += 1\n",
    "\n",
    "def merge_sort(nums, low, high):\n",
    "    if low < high:\n",
    "        # Find the midpoint\n",
    "        mid = (low + high) // 2\n",
    "        \n",
    "        # Recursively sort both halves\n",
    "        merge_sort(nums, low, mid)\n",
    "        merge_sort(nums, mid + 1, high)\n",
    "        \n",
    "        # Merge the sorted halves\n",
    "        merge(nums, low, mid, high)\n",
    "\n",
    "def mergeSort(nums):\n",
    "    # Wrapper function for convenience\n",
    "    merge_sort(nums, 0, len(nums) - 1)\n",
    "    return nums\n"
   ]
  },
  {
   "cell_type": "markdown",
   "metadata": {},
   "source": [
    "#### Quick Sort"
   ]
  },
  {
   "cell_type": "code",
   "execution_count": null,
   "metadata": {},
   "outputs": [],
   "source": [
    "def partition(nums, low, high):\n",
    "    pivot = nums[low]\n",
    "    i = low + 1\n",
    "    \n",
    "    for j in range(low + 1, high + 1):\n",
    "        if nums[j] <= pivot:\n",
    "            nums[i], nums[j] = nums[j], nums[i]\n",
    "            i += 1\n",
    "    \n",
    "    nums[low], nums[i - 1] = nums[i - 1], nums[low]\n",
    "    return i - 1\n",
    "\n",
    "def quick_sort(nums, low, high):\n",
    "    if low < high:\n",
    "        pi = partition(nums, low, high)\n",
    "        quick_sort(nums, low, pi - 1)\n",
    "        quick_sort(nums, pi + 1, high)\n",
    "        \n",
    "    return nums\n",
    "\n",
    "def quickSort(nums):\n",
    "    return quick_sort(nums, 0, len(nums) - 1)"
   ]
  },
  {
   "cell_type": "markdown",
   "metadata": {},
   "source": [
    "#### Bucket Sort"
   ]
  },
  {
   "cell_type": "code",
   "execution_count": null,
   "metadata": {},
   "outputs": [],
   "source": [
    "def bucketSort(nums):\n",
    "    # Create empty buckets\n",
    "    bucketCount = len(nums)\n",
    "    buckets = [[] for _ in range(bucketCount)]\n",
    "    \n",
    "    # Insert elements into their respective buckets\n",
    "    for num in nums:\n",
    "        index = int(num * bucketCount / (max(nums) + 1))\n",
    "        buckets[index].append(num)\n",
    "    \n",
    "    # Sort individual buckets and concatenate the result\n",
    "    sorted_array = [num for bucket in buckets for num in sorted(bucket)]\n",
    "    \n",
    "    return sorted_array"
   ]
  },
  {
   "cell_type": "markdown",
   "metadata": {},
   "source": [
    "#### Others"
   ]
  },
  {
   "cell_type": "code",
   "execution_count": null,
   "metadata": {},
   "outputs": [],
   "source": [
    "def factorial(num):\n",
    "    if num == 0:\n",
    "        return 1\n",
    "    else:\n",
    "        return num * factorial(num - 1)\n",
    "    \n",
    "factorial(5)"
   ]
  },
  {
   "cell_type": "code",
   "execution_count": null,
   "metadata": {},
   "outputs": [],
   "source": [
    "import csv\n",
    "\n",
    "def read_csv(file):\n",
    "    with open(file, mode=\"r\") as file:\n",
    "        reader = csv.reader(file)\n",
    "        for row in reader:\n",
    "            print(row)\n",
    "            \n",
    "read_csv(\"coffee.csv\")"
   ]
  },
  {
   "cell_type": "code",
   "execution_count": null,
   "metadata": {},
   "outputs": [],
   "source": [
    "import pandas as pd\n",
    "\n",
    "def read_csv(file):\n",
    "    data = pd.read_csv(file)\n",
    "    return data\n",
    "\n",
    "data = read_csv(\"coffee.csv\")\n",
    "data"
   ]
  },
  {
   "cell_type": "code",
   "execution_count": 16,
   "metadata": {},
   "outputs": [
    {
     "data": {
      "text/plain": [
       "True"
      ]
     },
     "execution_count": 16,
     "metadata": {},
     "output_type": "execute_result"
    }
   ],
   "source": [
    "import re\n",
    "\n",
    "def isValidEmail(email):\n",
    "    pattern = r\"[^@]+@[^@]+\\.[^@]+\"\n",
    "    return re.match(pattern, email) is not None\n",
    "\n",
    "isValidEmail(\"nilashis37@gmail.com\")"
   ]
  },
  {
   "cell_type": "code",
   "execution_count": null,
   "metadata": {},
   "outputs": [],
   "source": [
    "string = \"hello\"\n",
    "\n",
    "counter = {letter: string.count(letter) for letter in string}\n",
    "counter"
   ]
  },
  {
   "cell_type": "code",
   "execution_count": 37,
   "metadata": {},
   "outputs": [
    {
     "data": {
      "text/plain": [
       "'Rymdp Ptr'"
      ]
     },
     "execution_count": 37,
     "metadata": {},
     "output_type": "execute_result"
    }
   ],
   "source": [
    "s = \"Rouymadip Patra\"\n",
    "s1 = \"\"\n",
    "\n",
    "vowels = \"aeiou\"\n",
    "s1 = [letter for letter in s if letter.lower() not in vowels]\n",
    "\n",
    "\"\".join(s1)"
   ]
  }
 ],
 "metadata": {
  "kernelspec": {
   "display_name": "Python 3",
   "language": "python",
   "name": "python3"
  },
  "language_info": {
   "codemirror_mode": {
    "name": "ipython",
    "version": 3
   },
   "file_extension": ".py",
   "mimetype": "text/x-python",
   "name": "python",
   "nbconvert_exporter": "python",
   "pygments_lexer": "ipython3",
   "version": "3.12.5"
  }
 },
 "nbformat": 4,
 "nbformat_minor": 2
}
