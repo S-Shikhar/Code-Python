{
 "cells": [
  {
   "cell_type": "code",
   "execution_count": null,
   "metadata": {},
   "outputs": [],
   "source": [
    "a = []\n",
    "for i in range(0, 10):\n",
    "    a.append(int(input(\"Enter the number: \")))\n",
    "\n",
    "print(\"The list is: \", a)\n",
    "print(type(a[0]))"
   ]
  },
  {
   "cell_type": "code",
   "execution_count": null,
   "metadata": {},
   "outputs": [],
   "source": [
    "for i in range(0, len(a) - 1):\n",
    "    for j in range(0, len(a) - i - 1):\n",
    "        if a[j] > a[j+1]:\n",
    "            a[j], a[j+1] = a[j+1], a[j]\n",
    "\n",
    "print(\"The sorted list is: \", a)"
   ]
  },
  {
   "cell_type": "code",
   "execution_count": null,
   "metadata": {},
   "outputs": [],
   "source": [
    "##  lambda function\n",
    "a = []\n",
    "for i in range(0, 10):\n",
    "    a.append(int(input(\"Enter the number: \")))\n",
    "\n",
    "print(\"The list is: \", a)\n",
    "\n",
    "a.sort(key = lambda x: x)\n",
    "\n"
   ]
  },
  {
   "cell_type": "code",
   "execution_count": 207,
   "metadata": {},
   "outputs": [
    {
     "name": "stdout",
     "output_type": "stream",
     "text": [
      "Enter a valid number\n",
      "The program has ended\n"
     ]
    }
   ],
   "source": [
    "## error handling\n",
    "\n",
    "try:\n",
    "    a = int(input(\"Enter a number: \"))\n",
    "    print(\"The number is: \", a)\n",
    "except ValueError:\n",
    "    print(\"Enter a valid number\")\n",
    "except:\n",
    "    print(\"Some error occured\")\n",
    "finally:\n",
    "    print(\"The program has ended\")\n",
    "    "
   ]
  },
  {
   "cell_type": "markdown",
   "metadata": {},
   "source": [
    "## Set"
   ]
  },
  {
   "cell_type": "code",
   "execution_count": null,
   "metadata": {},
   "outputs": [],
   "source": [
    "a = set()\n",
    "a = {}   # This is a dictionary\n",
    "\n",
    "a = {1, 2, 4, 5, 3}\n",
    "\n",
    "print(a)\n",
    "print(type(a))"
   ]
  },
  {
   "cell_type": "code",
   "execution_count": null,
   "metadata": {},
   "outputs": [],
   "source": [
    "a.add(int(input(\"Enter the number to add: \")))\n",
    "a.remove(int(input(\"Enter the number to remove: \")))\n",
    "a.pop()\n",
    "a.clear()\n",
    "\n",
    "print(a)"
   ]
  },
  {
   "cell_type": "markdown",
   "metadata": {},
   "source": [
    "## Tuple"
   ]
  },
  {
   "cell_type": "code",
   "execution_count": null,
   "metadata": {},
   "outputs": [],
   "source": [
    "a = ()\n",
    "a = tuple()\n",
    "\n",
    "a = 1, 2, 3, 4, 5\n",
    "a = (1, 2, 3, 4, 5)\n",
    "\n",
    "print(a)\n",
    "print(type(a))\n",
    "\n",
    "print(3 in a)"
   ]
  },
  {
   "cell_type": "code",
   "execution_count": null,
   "metadata": {},
   "outputs": [],
   "source": [
    "print(a.count(1))\n",
    "print(a.index(1))"
   ]
  },
  {
   "cell_type": "code",
   "execution_count": null,
   "metadata": {},
   "outputs": [],
   "source": [
    "a1 = (1, 2, 3)\n",
    "\n",
    "x, y, z = a1\n",
    "\n",
    "print(x, y, z)"
   ]
  },
  {
   "cell_type": "code",
   "execution_count": null,
   "metadata": {},
   "outputs": [],
   "source": []
  },
  {
   "cell_type": "code",
   "execution_count": null,
   "metadata": {},
   "outputs": [],
   "source": []
  },
  {
   "cell_type": "markdown",
   "metadata": {},
   "source": [
    "## Dictionary"
   ]
  },
  {
   "cell_type": "code",
   "execution_count": null,
   "metadata": {},
   "outputs": [],
   "source": [
    "a = {}\n",
    "a = dict()\n",
    "\n",
    "a = {\n",
    "        1: \"One\", \n",
    "        2: \"Two\", \n",
    "        3: \"Three\",\n",
    "        4: \"four\"\n",
    "    }\n",
    "\n",
    "print(a)\n",
    "print(type(a))\n",
    "\n",
    "print(a[1])\n",
    "\n",
    "print(a.get(1))\n",
    "print(a.get(6))\n",
    "print(a.get(1, \"Not found\"))\n",
    "    "
   ]
  },
  {
   "cell_type": "code",
   "execution_count": null,
   "metadata": {},
   "outputs": [],
   "source": [
    "a.update({5: \"Five\"}) \n",
    "# a.pop(1)\n",
    "a.popitem()  \n",
    "a.clear()\n",
    "\n",
    "print(a)"
   ]
  },
  {
   "cell_type": "code",
   "execution_count": null,
   "metadata": {},
   "outputs": [],
   "source": [
    "list = a.keys()\n",
    "list1 = a.values()\n",
    "list2 = a.items()\n",
    "\n",
    "print(list)\n",
    "print(list1)\n",
    "print(list2)\n",
    "print(type(list2))"
   ]
  },
  {
   "cell_type": "code",
   "execution_count": null,
   "metadata": {},
   "outputs": [],
   "source": [
    "for keys, values in a.items():\n",
    "    print(keys, values)\n",
    "\n",
    "for i in a.values():\n",
    "    print(i)"
   ]
  },
  {
   "cell_type": "markdown",
   "metadata": {},
   "source": [
    "## Functions"
   ]
  },
  {
   "cell_type": "code",
   "execution_count": 1,
   "metadata": {},
   "outputs": [
    {
     "name": "stdout",
     "output_type": "stream",
     "text": [
      "3\n"
     ]
    }
   ],
   "source": [
    "def sum(a, b):\n",
    "    return a + b\n",
    "\n",
    "print(sum(1, 2))"
   ]
  },
  {
   "cell_type": "code",
   "execution_count": 2,
   "metadata": {},
   "outputs": [
    {
     "name": "stdout",
     "output_type": "stream",
     "text": [
      "3\n"
     ]
    }
   ],
   "source": [
    "a = lambda a, b: a + b\n",
    "\n",
    "print(a(1, 2))"
   ]
  },
  {
   "cell_type": "code",
   "execution_count": 3,
   "metadata": {},
   "outputs": [
    {
     "data": {
      "text/plain": [
       "[1, 2, 3, 4, 5]"
      ]
     },
     "execution_count": 3,
     "metadata": {},
     "output_type": "execute_result"
    }
   ],
   "source": [
    "def dup(a):\n",
    "    s = set(a)\n",
    "    return list(s)\n",
    "\n",
    "a = [1, 2, 3, 4, 5, 1, 2, 3, 4, 5]\n",
    "b = dup(a)\n",
    "b"
   ]
  },
  {
   "cell_type": "markdown",
   "metadata": {},
   "source": [
    "## File i/o"
   ]
  },
  {
   "cell_type": "code",
   "execution_count": 9,
   "metadata": {},
   "outputs": [
    {
     "name": "stdout",
     "output_type": "stream",
     "text": [
      "File exists\n"
     ]
    }
   ],
   "source": [
    "import os\n",
    "\n",
    "path = \"hello.txt\"\n",
    "\n",
    "if os.path.exists(path):\n",
    "    if os.path.isfile(path):\n",
    "        print(\"File exists\")\n",
    "    elif os.path.isdir(path):\n",
    "        print(\"Directory exists\")\n",
    "else:\n",
    "    print(\"File does not exist\")"
   ]
  },
  {
   "cell_type": "code",
   "execution_count": null,
   "metadata": {},
   "outputs": [],
   "source": [
    "if os.path.exists(path):\n",
    "    with open(path, \"w\") as f:\n",
    "        f.write(\"Hello World\")   \n",
    "    "
   ]
  },
  {
   "cell_type": "code",
   "execution_count": 13,
   "metadata": {},
   "outputs": [
    {
     "name": "stdout",
     "output_type": "stream",
     "text": [
      "Hello World\n"
     ]
    }
   ],
   "source": [
    "if os.path.exists(path):\n",
    "    with open(path, \"r\") as f:\n",
    "        print(f.read())"
   ]
  },
  {
   "cell_type": "code",
   "execution_count": 23,
   "metadata": {},
   "outputs": [],
   "source": [
    "if os.path.exists(path):\n",
    "    with open (path, \"a\") as f:\n",
    "        f.write(\"Souharda Shikhar Biswas\")"
   ]
  },
  {
   "cell_type": "code",
   "execution_count": null,
   "metadata": {},
   "outputs": [
    {
     "name": "stdout",
     "output_type": "stream",
     "text": [
      "Souharda Shikhar Biswas\n",
      "\n"
     ]
    }
   ],
   "source": [
    "if os.path.exists(path):\n",
    "    with open(path, \"r+\") as f:\n",
    "        print(f.read())\n",
    "        f.write(\"Souharda Shikhar Biswas\")\n",
    "    "
   ]
  },
  {
   "cell_type": "code",
   "execution_count": 25,
   "metadata": {},
   "outputs": [
    {
     "name": "stdout",
     "output_type": "stream",
     "text": [
      "\n"
     ]
    }
   ],
   "source": [
    "if os.path.exists(path):\n",
    "    with open(path, \"w+\") as f:\n",
    "        f.write(\"Souharda Shikhar Biswas\")\n",
    "        print(f.read())"
   ]
  },
  {
   "cell_type": "code",
   "execution_count": 29,
   "metadata": {},
   "outputs": [],
   "source": [
    "if os.path.exists(path):\n",
    "    with open(path, \"r\") as f:\n",
    "        con = f.read()\n",
    "\n",
    "path2 = \"hello2.txt\"\n",
    "\n",
    "with open(path2, \"w\") as f:\n",
    "    f.write(con)"
   ]
  },
  {
   "cell_type": "code",
   "execution_count": 31,
   "metadata": {},
   "outputs": [
    {
     "data": {
      "text/plain": [
       "'hello2.txt'"
      ]
     },
     "execution_count": 31,
     "metadata": {},
     "output_type": "execute_result"
    }
   ],
   "source": [
    "import shutil\n",
    "\n",
    "shutil.copy(path, path2)"
   ]
  },
  {
   "cell_type": "code",
   "execution_count": 32,
   "metadata": {},
   "outputs": [],
   "source": [
    "os.rename(path2, \"hello3.txt\")"
   ]
  },
  {
   "cell_type": "code",
   "execution_count": 33,
   "metadata": {},
   "outputs": [],
   "source": [
    "os.replace(\"hello3.txt\", \"h/ello4.txt\")"
   ]
  },
  {
   "cell_type": "code",
   "execution_count": 37,
   "metadata": {},
   "outputs": [
    {
     "name": "stdout",
     "output_type": "stream",
     "text": [
      "File does not exist\n",
      "Finally block\n"
     ]
    }
   ],
   "source": [
    "import os\n",
    "\n",
    "path = \"hello4.txt\"\n",
    "\n",
    "try :\n",
    "    with open(path, \"r\") as f:\n",
    "        print(f.read())\n",
    "except FileNotFoundError:\n",
    "    print(\"File does not exist\")\n",
    "except Exception as e:\n",
    "    print(e)\n",
    "finally:\n",
    "    print(\"Finally block\")\n",
    "    "
   ]
  },
  {
   "cell_type": "markdown",
   "metadata": {},
   "source": [
    "## OOP"
   ]
  },
  {
   "cell_type": "code",
   "execution_count": null,
   "metadata": {},
   "outputs": [
    {
     "name": "stdout",
     "output_type": "stream",
     "text": [
      "a =  10 \n",
      "b =  20\n"
     ]
    }
   ],
   "source": [
    "class A:\n",
    "    a = 10\n",
    "    b = 20\n",
    "    c = 30\n",
    "\n",
    "    def show(self):\n",
    "        print(\"a = \", self.a, \"\\nb = \", self.b)  ## self is the object of the class \n",
    "        print(f\"c = {self.c}\")  ## f-string is used to format the string\n",
    "\n",
    "s = A()\n",
    "s.show()\n"
   ]
  },
  {
   "cell_type": "code",
   "execution_count": null,
   "metadata": {},
   "outputs": [
    {
     "name": "stdout",
     "output_type": "stream",
     "text": [
      "9\n"
     ]
    }
   ],
   "source": [
    "class B:\n",
    "    def getValue(self, val):\n",
    "        self.a = val\n",
    "    \n",
    "    def suare(self):\n",
    "        return self.a ** 2\n",
    "\n",
    "obj = B()\n",
    "s = int(input(\"Enter the value: \"))\n",
    "\n",
    "obj.getValue(s)\n",
    "print(obj.suare())"
   ]
  },
  {
   "cell_type": "code",
   "execution_count": 4,
   "metadata": {},
   "outputs": [
    {
     "name": "stdout",
     "output_type": "stream",
     "text": [
      "53824\n"
     ]
    }
   ],
   "source": [
    "class C:\n",
    "    def __init__(self, val):\n",
    "        self.a = val\n",
    "\n",
    "    def suare(self):\n",
    "        return self.a ** 2\n",
    "\n",
    "# obj = C(5)\n",
    "obj = C(int(input(\"Enter the value: \")))\n",
    "print(obj.suare())"
   ]
  },
  {
   "cell_type": "code",
   "execution_count": null,
   "metadata": {},
   "outputs": [
    {
     "name": "stdout",
     "output_type": "stream",
     "text": [
      "6\n",
      "3\n"
     ]
    }
   ],
   "source": [
    "class D:\n",
    "    # def add(self, a, b):\n",
    "    #     return a + b\n",
    "    \n",
    "    def add(self, a, b, c = 0):\n",
    "        return a + b + c\n",
    "    \n",
    "    def add(self, *args):\n",
    "        return (args[0] + args[1] + args[2])\n",
    "\n",
    "obj = D()\n",
    "\n",
    "print(obj.add(1, 2, 3)) ## Positional arguments\n",
    "print(obj.add(1, 2))    ## Default arguments\n",
    "\n",
    "print(obj.add(a = 1, b = 2, c = 3))  ## Keyword arguments\n",
    "print(obj.add(b = 2, a = 1, c = 3))  ## Keyword arguments can be passed in any order\n",
    "print(obj.add(1, b = 2, c = 3))  ## Positional and keyword arguments can be passed together\n",
    "\n"
   ]
  },
  {
   "cell_type": "code",
   "execution_count": 12,
   "metadata": {},
   "outputs": [
    {
     "name": "stdout",
     "output_type": "stream",
     "text": [
      "d is an animal\n",
      "d eats meat\n",
      "c is an animal\n",
      "c eats fish\n"
     ]
    }
   ],
   "source": [
    "class Animal:\n",
    "    def __init__(self, name):\n",
    "        self.name = name\n",
    "        print(f\"{name} is an animal\")\n",
    "\n",
    "class Dog(Animal):\n",
    "    def food(self):\n",
    "        print(f\"{self.name} eats meat\")\n",
    "\n",
    "class Cat(Animal):\n",
    "    def food(self):\n",
    "        print(f\"{self.name} eats fish\")\n",
    "\n",
    "d = Dog(input(\"Enter the name of the dog: \"))\n",
    "d.food()\n",
    "\n",
    "c = Cat(input(\"Enter the name of the cat: \"))\n",
    "c.food()"
   ]
  },
  {
   "cell_type": "code",
   "execution_count": null,
   "metadata": {},
   "outputs": [
    {
     "name": "stdout",
     "output_type": "stream",
     "text": [
      "3\n"
     ]
    }
   ],
   "source": [
    "## Static method\n",
    "\n",
    "class F:\n",
    "    def add(a, b):\n",
    "        return a + b\n",
    "\n",
    "print(F.add(1, 2))   ## Static method can be called without creating an object of the class"
   ]
  },
  {
   "cell_type": "markdown",
   "metadata": {},
   "source": [
    "## numPy"
   ]
  },
  {
   "cell_type": "code",
   "execution_count": null,
   "metadata": {},
   "outputs": [],
   "source": [
    "import numpy as np\n",
    "\n",
    "a = np.array([1, 2, 3, 4, 5]) ## 1D array\n",
    "print(a, \"\\n\")\n",
    "\n",
    "b = np.array([[1, 2, 3], [4, 5, 6]], dtype= \"int64\") ## 2D array\n",
    "print(b, \"\\n\")\n",
    "\n",
    "print(\"for a: \\n\")\n",
    "print(a.ndim) ## Dimension of the array\n",
    "print(a.shape) ## Shape of the array\n",
    "print(a.size) ## Size of the array\n",
    "print(a.dtype) ## Data type of the array\n",
    "print(a.itemsize) ## Size of each element in the array\n",
    "print(a.nbytes) ## Total size of the array\n",
    "print(a.strides) ## Number of bytes to jump to get to the next element\n",
    "\n",
    "print(\"\\n\\nfor b: \\n\")\n",
    "print(b.ndim) ## Dimension of the array\n",
    "print(b.shape) ## Shape of the array\n",
    "print(b.size) ## Size of the array\n",
    "print(b.dtype) ## Data type of the array\n",
    "print(b.itemsize) ## Size of each element in the array\n",
    "print(b.nbytes) ## Total size of the array\n",
    "print(b.strides) ## Number of bytes to jump to get to the next element\n"
   ]
  },
  {
   "cell_type": "code",
   "execution_count": null,
   "metadata": {},
   "outputs": [
    {
     "name": "stdout",
     "output_type": "stream",
     "text": [
      "[1 2 3 4 5] \n",
      "\n"
     ]
    }
   ],
   "source": [
    "import numpy as np\n",
    "\n",
    "a = np.array([1, 2, 3, 4, 5]) ## 1D array\n",
    "print(a, \"\\n\")"
   ]
  },
  {
   "cell_type": "markdown",
   "metadata": {},
   "source": [
    "## Pandas"
   ]
  },
  {
   "cell_type": "code",
   "execution_count": 51,
   "metadata": {},
   "outputs": [
    {
     "name": "stdout",
     "output_type": "stream",
     "text": [
      "   a   b   c\n",
      "0  1   6  11\n",
      "1  2   7  12\n",
      "2  3   8  13\n",
      "3  4   9  14\n",
      "4  5  10  15\n"
     ]
    }
   ],
   "source": [
    "import pandas as pd\n",
    "\n",
    "df1 = pd.DataFrame({\n",
    "    \"a\" : [1, 2, 3, 4, 5],\n",
    "    \"b\" : [6, 7, 8, 9, 10],\n",
    "    \"c\" : [11, 12, 13, 14, 15] \n",
    "})\n",
    "\n",
    "print(df1)"
   ]
  },
  {
   "cell_type": "code",
   "execution_count": null,
   "metadata": {},
   "outputs": [],
   "source": [
    "df = pd.read_csv(\"coffee.csv\")\n",
    "print(df)"
   ]
  },
  {
   "cell_type": "code",
   "execution_count": null,
   "metadata": {},
   "outputs": [],
   "source": [
    "# df.head()   ## First 5 rows of the data frame\n",
    "# df.head(10) ## First 10 rows of the data frame\n",
    "\n",
    "# df.tail()   ## Last 5 rows of the data frame\n",
    "# df.tail(10) ## Last 10 rows of the data frame\n",
    "\n",
    "# df.shape ## Shape of the data frame\n",
    "# # print(df.columns) ## Columns of the data frame\n",
    "\n",
    "# # print(df.index) ## Index of the data frame\n",
    "# # df.index.tolist() ## Index of the data frame as a list\n",
    "\n",
    "# # df.describe() ## Descriptive statistics of the data frame\n",
    "# # # df.info() ## Information about the data frame\n",
    "\n",
    "# # df[\"Coffee Type\"] ## Accessing a column of the data frame\n",
    "# # df[\"Coffee Type\"].unique() ## Unique values in the column\n",
    "# # df[\"Coffee Type\"].value_counts() ## Number of unique values in the column\n",
    "# # df[\"Coffee Type\"].nunique() ## Number of unique values in the column\n",
    "\n",
    "df.iloc[0] ## Accessing the first row of the data frame\n",
    "# # df.iloc[0:5] ## Accessing the first 5 rows of the data frame\n",
    "# # df.iloc[0:5, 0:2] ## Accessing the first 5 rows and first 2 columns of the data frame\n",
    "# # df.iloc[0:5, 0:2].values ## Accessing the first 5 rows and first 2 columns of the data frame as a numpy array\n",
    "\n",
    "# df.loc[0] ## Accessing the first row of the data frame\n",
    "# # df.loc[0:5] ## Accessing the first 5 rows of the data frame\n",
    "# # df.loc[0:5, \"Coffee Type\"] ## Accessing the first 5 rows of the column \"Coffee Type\"\n",
    "\n",
    "# # df.combine_first(df1) ## Combining two data frames\n",
    "# # df.dtypes ## Data types of the columns of the data frame\n",
    "# # # df.insert(1, \"New Column1\", range(len(df))) ## Inserting a new column in the data frame\n",
    "\n",
    "# # print(df)\n",
    "\n",
    "df.isna() ## Checking for missing values\n",
    "df.fillna(0) ## Filling missing values with 0\n",
    "df.dropna() ## Dropping missing values from the data frame \n",
    "\n",
    "df.sort_values(\"Units Sold\") ## Sorting the data frame by a column\n",
    "\n",
    "df.apply(lambda x: x + x) ## Applying a function to the data frame\n",
    "df[\"Units Sold\"].apply(lambda x: x + x) ## Applying a function to a column of the data frame\n",
    "\n",
    "df.describe() ## Descriptive statistics of the data frame\n",
    "\n",
    "df[df[\"Units Sold\"] < 20] ## Filtering the data frame\n",
    "\n",
    "# df.reset_index(drop = True) ## Resetting the index of the data frame\n",
    "\n",
    "df.rename(columns = {\"Units Sold\": \"Units Sold1\"}) ## Renaming a column of the data frame\n"
   ]
  },
  {
   "cell_type": "code",
   "execution_count": 78,
   "metadata": {},
   "outputs": [
    {
     "data": {
      "text/html": [
       "<div>\n",
       "<style scoped>\n",
       "    .dataframe tbody tr th:only-of-type {\n",
       "        vertical-align: middle;\n",
       "    }\n",
       "\n",
       "    .dataframe tbody tr th {\n",
       "        vertical-align: top;\n",
       "    }\n",
       "\n",
       "    .dataframe thead th {\n",
       "        text-align: right;\n",
       "    }\n",
       "</style>\n",
       "<table border=\"1\" class=\"dataframe\">\n",
       "  <thead>\n",
       "    <tr style=\"text-align: right;\">\n",
       "      <th></th>\n",
       "      <th>a</th>\n",
       "      <th>b</th>\n",
       "      <th>c</th>\n",
       "      <th>g</th>\n",
       "    </tr>\n",
       "  </thead>\n",
       "  <tbody>\n",
       "    <tr>\n",
       "      <th>0</th>\n",
       "      <td>1</td>\n",
       "      <td>6</td>\n",
       "      <td>11</td>\n",
       "      <td>7</td>\n",
       "    </tr>\n",
       "    <tr>\n",
       "      <th>1</th>\n",
       "      <td>2</td>\n",
       "      <td>7</td>\n",
       "      <td>12</td>\n",
       "      <td>9</td>\n",
       "    </tr>\n",
       "    <tr>\n",
       "      <th>2</th>\n",
       "      <td>3</td>\n",
       "      <td>8</td>\n",
       "      <td>13</td>\n",
       "      <td>11</td>\n",
       "    </tr>\n",
       "    <tr>\n",
       "      <th>3</th>\n",
       "      <td>4</td>\n",
       "      <td>9</td>\n",
       "      <td>14</td>\n",
       "      <td>13</td>\n",
       "    </tr>\n",
       "    <tr>\n",
       "      <th>4</th>\n",
       "      <td>5</td>\n",
       "      <td>10</td>\n",
       "      <td>15</td>\n",
       "      <td>15</td>\n",
       "    </tr>\n",
       "  </tbody>\n",
       "</table>\n",
       "</div>"
      ],
      "text/plain": [
       "   a   b   c   g\n",
       "0  1   6  11   7\n",
       "1  2   7  12   9\n",
       "2  3   8  13  11\n",
       "3  4   9  14  13\n",
       "4  5  10  15  15"
      ]
     },
     "execution_count": 78,
     "metadata": {},
     "output_type": "execute_result"
    }
   ],
   "source": [
    "df1 = pd.DataFrame({\n",
    "    \"a\" : [1, 2, 3, 4, 5],\n",
    "    \"b\" : [6, 7, 8, 9, 10],\n",
    "    \"c\" : [11, 12, 13, 14, 15] \n",
    "})\n",
    "\n",
    "df2 = pd.DataFrame({\n",
    "    \"a\" : [1, 2, 3, 4, 5],\n",
    "    \"e\" : [21, 22, 23, 24, 25],\n",
    "    \"f\" : [26, 27, 28, 29, 30]\n",
    "})\n",
    "\n",
    "df3 = pd.concat([df1, df2], axis = 0) ## Concatenating two data frames\n",
    "\n",
    "# df3 = pd.merge(df1, df2, left_index = True, right_index = True) ## Merging two data frames\n",
    "\n",
    "df3.dtypes ## Data types of the columns of the data frame\n",
    "# df3.pivot_table(index = \"a\", columns = \"d\", values = \"e\") ## Creating a pivot table\n",
    "\n",
    "df3.to_csv(\"df3.csv\") ## Saving the data frame as a csv file\n",
    "\n",
    "# df3.isna() ## Checking for missing values\n",
    "# df3.fillna(0) ## Filling missing values with 0\n",
    "# df3.dropna() ## Dropping missing values from the data frame\n",
    "\n",
    "# df1[(df1[\"a\"] < 3) & (df1[\"b\"] > 6)] ## Filtering the data frame\n",
    "\n",
    "df3 = pd.merge(df1, df2, on = \"a\") ## Merging two data frames\n",
    "\n",
    "df3.pivot_table(index = \"a\", columns = \"e\", values = \"f\") ## Creating a pivot table\n",
    "\n",
    "df1[\"g\"] = df1[\"a\"] + df1[\"b\"] ## Creating a new column in the data frame\n",
    "\n",
    "df1\n",
    "\n"
   ]
  },
  {
   "cell_type": "code",
   "execution_count": 192,
   "metadata": {},
   "outputs": [
    {
     "data": {
      "image/png": "[encoded data removed]",
      "text/plain": [
       "<Figure size 640x480 with 1 Axes>"
      ]
     },
     "metadata": {},
     "output_type": "display_data"
    }
   ],
   "source": [
    "## merge tow plots\n",
    "import matplotlib.pyplot as plt\n",
    "\n",
    "x = [1, 2, 3, 4, 5]\n",
    "y = [6, 7, 8, 9, 10]\n",
    "\n",
    "plt.plot(x, y, label = \"Line 1\")\n",
    "\n",
    "x1 = [1, 2, 3, 4, 5]\n",
    "y1 = [11, 12, 13, 14, 15]\n",
    "\n",
    "plt.plot(x1, y1, label = \"Line 2\")\n",
    "\n",
    "plt.xlabel(\"X-axis\")\n",
    "plt.ylabel(\"Y-axis\")\n",
    "plt.title(\"Line Plot\")\n",
    "plt.legend()\n",
    "plt.show()"
   ]
  },
  {
   "cell_type": "code",
   "execution_count": 197,
   "metadata": {},
   "outputs": [
    {
     "name": "stdout",
     "output_type": "stream",
     "text": [
      "          Day Coffee Type  Units Sold\n",
      "0      Monday    Espresso          25\n",
      "1      Monday       Latte          15\n",
      "2     Tuesday    Espresso          30\n",
      "3     Tuesday       Latte          20\n",
      "4   Wednesday    Espresso          35\n",
      "5   Wednesday       Latte          25\n",
      "6    Thursday    Espresso          40\n",
      "7    Thursday       Latte          30\n",
      "8      Friday    Espresso          45\n",
      "9      Friday       Latte          35\n",
      "10   Saturday    Espresso          45\n",
      "11   Saturday       Latte          35\n",
      "12     Sunday    Espresso          45\n",
      "13     Sunday       Latte          35\n"
     ]
    },
    {
     "data": {
      "text/plain": [
       "<matplotlib.legend.Legend at 0x2572b713fb0>"
      ]
     },
     "execution_count": 197,
     "metadata": {},
     "output_type": "execute_result"
    },
    {
     "data": {
      "image/png": "[encoded data removed]",
      "text/plain": [
       "<Figure size 640x480 with 1 Axes>"
      ]
     },
     "metadata": {},
     "output_type": "display_data"
    }
   ],
   "source": [
    "df = pd.read_csv(\"coffee.csv\")\n",
    "print(df)\n",
    "\n",
    "plt.plot(df[\"Coffee Type\"], df[\"Units Sold\"], label = \"coffee\")\n",
    "plt.legend()"
   ]
  },
  {
   "cell_type": "code",
   "execution_count": 86,
   "metadata": {},
   "outputs": [
    {
     "data": {
      "text/plain": [
       "array([[2., 1.],\n",
       "       [1., 2.]])"
      ]
     },
     "execution_count": 86,
     "metadata": {},
     "output_type": "execute_result"
    }
   ],
   "source": [
    "import numpy as np\n",
    "\n",
    "a = np.eye(2) ## Identity matrix\n",
    "np.zeros((3, 3)) ## Zero matrix\n",
    "b = np.identity(3) ## Identity matrix\n",
    "\n",
    "# a + b ## Element wise addition\n",
    "## broadcasting\n",
    "a + 1 ## Broadcasting\n"
   ]
  },
  {
   "cell_type": "code",
   "execution_count": 115,
   "metadata": {},
   "outputs": [
    {
     "data": {
      "text/plain": [
       "array([[ 0.22222222, -0.02777778, -0.02777778, -0.02777778, -0.02777778],\n",
       "       [-0.02777778,  0.22222222, -0.02777778, -0.02777778, -0.02777778],\n",
       "       [-0.02777778, -0.02777778,  0.22222222, -0.02777778, -0.02777778],\n",
       "       [-0.02777778, -0.02777778, -0.02777778,  0.22222222, -0.02777778],\n",
       "       [-0.02777778, -0.02777778, -0.02777778, -0.02777778,  0.22222222]])"
      ]
     },
     "execution_count": 115,
     "metadata": {},
     "output_type": "execute_result"
    }
   ],
   "source": [
    "arr = np.array(range(1, 11))\n",
    "arr\n",
    "\n",
    "arr1 = np.arange(10).reshape(2, 5)\n",
    "arr1\n",
    "\n",
    "# flat_arr = arr1.flatten()  ## Flattening the array\n",
    "flat_arr = arr1.reshape(1, arr1.size)  ## Reshaping the array\n",
    "flat_arr\n",
    "\n",
    "a = np.random.randint(1, 100, (5, 2)) ## Random numbers between 0 and 1\n",
    "a\n",
    "\n",
    "b = np.linspace(1, 100, 5) ## Linearly spaced numbers\n",
    "b\n",
    "\n",
    "c = np.concatenate((a, b.reshape(5, 1)), axis = 1) ## Concatenating two arrays\n",
    "c\n",
    "\n",
    "# d = np.dot(arr, arr1) ## Dot product of two arrays\n",
    "# d\n",
    "\n",
    "e = np.ones((5, 5)) ## Ones matrix\n",
    "np.fill_diagonal(e, 5) ## Filling the diagonal with 5\n",
    "e = np.linalg.inv(e) ## Inverse of the matrix\n",
    "e"
   ]
  },
  {
   "cell_type": "code",
   "execution_count": 81,
   "metadata": {},
   "outputs": [
    {
     "data": {
      "text/plain": [
       "[<matplotlib.lines.Line2D at 0x183bca0a690>]"
      ]
     },
     "execution_count": 81,
     "metadata": {},
     "output_type": "execute_result"
    },
    {
     "data": {
      "image/png": "[encoded data removed]",
      "text/plain": [
       "<Figure size 640x480 with 1 Axes>"
      ]
     },
     "metadata": {},
     "output_type": "display_data"
    }
   ],
   "source": [
    "import matplotlib.pyplot as plt\n",
    "\n",
    "x = [1, 2, 3, 4, 5]\n",
    "y = [1, 4, 9, 16, 25]\n",
    "\n",
    "plt.plot(x, y, \"r--\") ## r-- is the color and style of the line"
   ]
  },
  {
   "cell_type": "code",
   "execution_count": 198,
   "metadata": {},
   "outputs": [
    {
     "data": {
      "image/png": "[encoded data removed]",
      "text/plain": [
       "<Figure size 640x480 with 1 Axes>"
      ]
     },
     "metadata": {},
     "output_type": "display_data"
    }
   ],
   "source": [
    "## Adding labels to the plot\n",
    "plt.xlabel(\"X-axis\")\n",
    "plt.ylabel(\"Y-axis\")\n",
    "plt.title(\"Plot\")\n",
    "\n",
    "\n",
    "x = [1, 2, 3, 4, 5]\n",
    "y = [1, 4, 9, 16, 25]\n",
    "\n",
    "plt.plot(x, y) ## r-- is the color and style of the line \n",
    "plt.bar(x, y)\n",
    "plt.grid(True) ## Adding grid to the plot\n",
    "# plt.figure(figsize = (60, 5)) ## Size of the plot\n",
    "# plt.scatter(x, y) ## Scatter plot\n",
    "plt.show()"
   ]
  },
  {
   "cell_type": "code",
   "execution_count": 199,
   "metadata": {},
   "outputs": [
    {
     "data": {
      "text/plain": [
       "<matplotlib.legend.Legend at 0x2572ff358e0>"
      ]
     },
     "execution_count": 199,
     "metadata": {},
     "output_type": "execute_result"
    },
    {
     "data": {
      "image/png": "[encoded data removed]",
      "text/plain": [
       "<Figure size 640x480 with 1 Axes>"
      ]
     },
     "metadata": {},
     "output_type": "display_data"
    }
   ],
   "source": [
    "## Adding multiple plots to the same plot\n",
    "x = [1, 2, 3, 4, 5]\n",
    "y = [1, 4, 9, 16, 25]\n",
    "\n",
    "plt.plot(x, y, label = \"y = x^2\")\n",
    "plt.plot(x, [i ** 3 for i in x], label = \"y = x^3\")\n",
    "plt.legend()\n",
    "# plt.show()\n"
   ]
  },
  {
   "cell_type": "code",
   "execution_count": 7,
   "metadata": {},
   "outputs": [
    {
     "name": "stdout",
     "output_type": "stream",
     "text": [
      "          Day Coffee Type  Units Sold\n",
      "0      Monday    Espresso          25\n",
      "1      Monday       Latte          15\n",
      "2     Tuesday    Espresso          30\n",
      "3     Tuesday       Latte          20\n",
      "4   Wednesday    Espresso          35\n",
      "5   Wednesday       Latte          25\n",
      "6    Thursday    Espresso          40\n",
      "7    Thursday       Latte          30\n",
      "8      Friday    Espresso          45\n",
      "9      Friday       Latte          35\n",
      "10   Saturday    Espresso          45\n",
      "11   Saturday       Latte          35\n",
      "12     Sunday    Espresso          45\n",
      "13     Sunday       Latte          35\n"
     ]
    },
    {
     "data": {
      "text/plain": [
       "<matplotlib.legend.Legend at 0x2571d46baa0>"
      ]
     },
     "execution_count": 7,
     "metadata": {},
     "output_type": "execute_result"
    },
    {
     "data": {
      "image/png": "[encoded data removed]",
      "text/plain": [
       "<Figure size 640x480 with 1 Axes>"
      ]
     },
     "metadata": {},
     "output_type": "display_data"
    }
   ],
   "source": [
    "## read csv file and plot the data\n",
    "\n",
    "import pandas as pd\n",
    "import matplotlib.pyplot as plt\n",
    "\n",
    "df = pd.read_csv(\"coffee.csv\")\n",
    "print(df)\n",
    "\n",
    "plt.plot(df[\"Coffee Type\"], label = \"Calories\")\n",
    "plt.legend()"
   ]
  },
  {
   "cell_type": "code",
   "execution_count": 141,
   "metadata": {},
   "outputs": [
    {
     "data": {
      "text/plain": [
       "[<matplotlib.lines.Line2D at 0x257284c25a0>]"
      ]
     },
     "execution_count": 141,
     "metadata": {},
     "output_type": "execute_result"
    },
    {
     "data": {
      "image/png": "[encoded data removed]",
      "text/plain": [
       "<Figure size 1000x500 with 2 Axes>"
      ]
     },
     "metadata": {},
     "output_type": "display_data"
    }
   ],
   "source": [
    "x = range(10)\n",
    "\n",
    "y1 = [i ** 2 for i in x]\n",
    "y2 = [i ** 3 for i in x]\n",
    "\n",
    "fig, (ax1, ax2) = plt.subplots(1, 2, figsize = (10, 5))\n",
    "\n",
    "ax1.plot(x, y1)\n",
    "ax2.plot(x, y2)"
   ]
  },
  {
   "cell_type": "code",
   "execution_count": 213,
   "metadata": {},
   "outputs": [
    {
     "data": {
      "image/png": "[encoded data removed]",
      "text/plain": [
       "<Figure size 1500x500 with 3 Axes>"
      ]
     },
     "metadata": {},
     "output_type": "display_data"
    }
   ],
   "source": [
    "x = [1, 2, 3, 4, 5]\n",
    "y = [1, 4, 9, 16, 25]\n",
    "\n",
    "x1 = [1, 2, 3, 4, 5]\n",
    "y1 = [1, 8, 27, 64, 125]\n",
    "\n",
    "fig, (ax1, ax2, ax3) = plt.subplots(1, 3, figsize = (15, 5))\n",
    "\n",
    "plt.tight_layout()\n",
    "\n",
    "ax1.plot(x, y)\n",
    "ax2.plot(x1, y1)\n",
    "ax3.plot(x, y)\n",
    "plt.show()\n"
   ]
  },
  {
   "cell_type": "code",
   "execution_count": 206,
   "metadata": {},
   "outputs": [
    {
     "data": {
      "image/png": "[encoded data removed]",
      "text/plain": [
       "<Figure size 640x480 with 1 Axes>"
      ]
     },
     "metadata": {},
     "output_type": "display_data"
    }
   ],
   "source": [
    "import matplotlib.pyplot as plt\n",
    "\n",
    "categories = ['A', 'B', 'C']\n",
    "values1 = [5, 7, 3]\n",
    "values2 = [6, 2, 5]\n",
    "\n",
    "plt.bar(categories, values1, label='Group 1')\n",
    "plt.bar(categories, values2, bottom=values1, label='Group 2')\n",
    "\n",
    "plt.legend()\n",
    "plt.show()\n"
   ]
  },
  {
   "cell_type": "code",
   "execution_count": null,
   "metadata": {},
   "outputs": [
    {
     "data": {
      "image/png": "[encoded data removed]",
      "text/plain": [
       "<Figure size 640x480 with 1 Axes>"
      ]
     },
     "metadata": {},
     "output_type": "display_data"
    }
   ],
   "source": [
    "import matplotlib.pyplot as plt\n",
    "\n",
    "# Data\n",
    "x = [1, 2, 3, 4, 5]\n",
    "y = [2, 4, 6, 8, 10]\n",
    "\n",
    "# Plot\n",
    "plt.scatter(x, y, color='blue', marker='o')\n",
    "\n",
    "# Annotate points\n",
    "for i in range(len(y)):\n",
    "    plt.annotate(f\"{x[i]}, {y[i]}\", (x[i], y[i]))\n",
    "\n",
    "plt.xlabel('X-axis')\n",
    "plt.ylabel('Y-axis')\n",
    "plt.title('Annotated Scatter Plot')\n",
    "plt.show()\n"
   ]
  },
  {
   "cell_type": "code",
   "execution_count": 209,
   "metadata": {},
   "outputs": [
    {
     "data": {
      "image/png": "[encoded data removed]",
      "text/plain": [
       "<Figure size 640x480 with 1 Axes>"
      ]
     },
     "metadata": {},
     "output_type": "display_data"
    }
   ],
   "source": [
    "## pie chart\n",
    "\n",
    "import matplotlib.pyplot as plt\n",
    "\n",
    "# Data\n",
    "sizes = [25, 25, 50]\n",
    "labels = ['A', 'B', 'C']\n",
    "\n",
    "# Plot\n",
    "plt.pie(sizes, labels=labels, explode=(0, 0.1, 0), shadow=True)\n",
    "\n",
    "plt.show()"
   ]
  },
  {
   "cell_type": "code",
   "execution_count": 211,
   "metadata": {},
   "outputs": [
    {
     "data": {
      "text/plain": [
       "array([[1, 2, 3],\n",
       "       [4, 5, 6],\n",
       "       [7, 8, 9]])"
      ]
     },
     "execution_count": 211,
     "metadata": {},
     "output_type": "execute_result"
    }
   ],
   "source": [
    "arr = np.arange(1, 10).reshape(3, 3)\n",
    "\n",
    "arr"
   ]
  },
  {
   "cell_type": "markdown",
   "metadata": {},
   "source": [
    "## sorting"
   ]
  },
  {
   "cell_type": "markdown",
   "metadata": {},
   "source": [
    "### Bubble Sort"
   ]
  },
  {
   "cell_type": "code",
   "execution_count": 174,
   "metadata": {},
   "outputs": [
    {
     "name": "stdout",
     "output_type": "stream",
     "text": [
      "[2, 3, 5, 7, 10]\n"
     ]
    }
   ],
   "source": [
    "a = [2, 5, 3, 10, 7]\n",
    "\n",
    "def bubble(a):\n",
    "    for i in range(len(a) - 1):\n",
    "        for j in range(len(a) -1 -i):\n",
    "            if a[j +1] < a[j]:\n",
    "                a[j], a[j + 1] = a[j + 1], a[j]\n",
    "            \n",
    "    return a\n",
    "\n",
    "print(bubble(a))   \n"
   ]
  },
  {
   "cell_type": "markdown",
   "metadata": {},
   "source": [
    "### Selection Sort"
   ]
  },
  {
   "cell_type": "code",
   "execution_count": 176,
   "metadata": {},
   "outputs": [
    {
     "data": {
      "text/plain": [
       "[2, 3, 5, 7, 10]"
      ]
     },
     "execution_count": 176,
     "metadata": {},
     "output_type": "execute_result"
    }
   ],
   "source": [
    "b = [5, 2, 3, 10, 7]\n",
    "def sel(a):\n",
    "    for i in range(len(a)):\n",
    "        minindex = i\n",
    "        for j in range(i + 1, len(a)):\n",
    "            if a[j] < a[minindex]:\n",
    "                minindex = j\n",
    "        if minindex != i:\n",
    "            a[i], a[minindex] = a[minindex], a[i]\n",
    "\n",
    "    return a \n",
    "\n",
    "sel(b)"
   ]
  },
  {
   "cell_type": "markdown",
   "metadata": {},
   "source": [
    "### Insertion Sort"
   ]
  },
  {
   "cell_type": "code",
   "execution_count": null,
   "metadata": {},
   "outputs": [
    {
     "data": {
      "text/plain": [
       "[2, 3, 5, 7, 10]"
      ]
     },
     "execution_count": 177,
     "metadata": {},
     "output_type": "execute_result"
    }
   ],
   "source": [
    "def ins(a):\n",
    "    for i in range(1, len(a)):\n",
    "        key = a[i]\n",
    "        j = i - 1\n",
    "        while j >= 0 and key < a[j]:\n",
    "            a[j + 1] = a[j]\n",
    "            j -= 1\n",
    "        a[j + 1] = key\n",
    "\n",
    "    return a \n",
    "\n",
    "ins(b)"
   ]
  },
  {
   "cell_type": "markdown",
   "metadata": {},
   "source": [
    "### Merge Sort"
   ]
  },
  {
   "cell_type": "code",
   "execution_count": null,
   "metadata": {},
   "outputs": [
    {
     "data": {
      "text/plain": [
       "[2, 3, 5, 7, 10]"
      ]
     },
     "execution_count": 189,
     "metadata": {},
     "output_type": "execute_result"
    }
   ],
   "source": [
    "b = [5, 2, 3, 10, 7]\n",
    "\n",
    "def merge(a, low, mid, high):\n",
    "    left = a[low:mid + 1]\n",
    "    right = a[mid + 1: high + 1]\n",
    "\n",
    "    i = j = 0\n",
    "    k = low\n",
    "\n",
    "    while i < len(left) and j < len(right):\n",
    "        if left[i] < right[j]:\n",
    "            a[k] = left[i]\n",
    "            i += 1\n",
    "        else:\n",
    "            a[k] = right[j]\n",
    "            j += 1\n",
    "        \n",
    "        k += 1\n",
    "    \n",
    "    while i < len(left):\n",
    "        a[k] = left[i]\n",
    "        i += 1\n",
    "        k += 1\n",
    "    \n",
    "    while j < len(right):\n",
    "        a[k] = right[j]\n",
    "        j += 1\n",
    "        k += 1\n",
    "\n",
    "def merge_sort(a, low, high):\n",
    "    if low < high:\n",
    "        mid = (low + high) // 2\n",
    "        \n",
    "        merge_sort(a, low, mid)\n",
    "        merge_sort(a, mid + 1, high)\n",
    "\n",
    "        merge(a, low, mid, high)\n",
    "    \n",
    "\n",
    "def mergeSort(a):\n",
    "    merge_sort(a, 0, len(a) - 1)\n",
    "\n",
    "    return a \n",
    "\n",
    "mergeSort(b)\n",
    "            "
   ]
  },
  {
   "cell_type": "markdown",
   "metadata": {},
   "source": [
    "### Quick Sort"
   ]
  },
  {
   "cell_type": "code",
   "execution_count": 190,
   "metadata": {},
   "outputs": [
    {
     "data": {
      "text/plain": [
       "[2, 3, 5, 7, 10]"
      ]
     },
     "execution_count": 190,
     "metadata": {},
     "output_type": "execute_result"
    }
   ],
   "source": [
    "def pertition(a, low, high):\n",
    "    pivot = a[low]\n",
    "    i = low + 1\n",
    "\n",
    "    for j in range(low + 1, high + 1):\n",
    "        if a[j] <= pivot:\n",
    "            a[i], a[j] = a[j], a[i]\n",
    "            i += 1\n",
    "\n",
    "    a[low], a[i - 1] = a[i - 1], a[low]\n",
    "\n",
    "    return i - 1\n",
    "\n",
    "def quick_sort(a, low, high):\n",
    "    if low < high:\n",
    "        pi = pertition(a, low, high)\n",
    "        quick_sort(a, low, pi - 1)\n",
    "        quick_sort(a, pi + 1, high)\n",
    "    return a \n",
    "\n",
    "def quickSort(a):\n",
    "    return quick_sort(a, 0, len(a) - 1)\n",
    "\n",
    "\n",
    "quickSort(b)\n"
   ]
  },
  {
   "cell_type": "markdown",
   "metadata": {},
   "source": [
    "### Bucket Sort"
   ]
  },
  {
   "cell_type": "code",
   "execution_count": 191,
   "metadata": {},
   "outputs": [
    {
     "data": {
      "text/plain": [
       "[2, 3, 5, 7, 10]"
      ]
     },
     "execution_count": 191,
     "metadata": {},
     "output_type": "execute_result"
    }
   ],
   "source": [
    "def bucketSort(nums):\n",
    "    # Create empty buckets\n",
    "    bucketCount = len(nums)\n",
    "    buckets = [[] for _ in range(bucketCount)]\n",
    "    \n",
    "    # Insert elements into their respective buckets\n",
    "    for num in nums:\n",
    "        index = int(num * bucketCount / (max(nums) + 1))\n",
    "        buckets[index].append(num)\n",
    "    \n",
    "    # Sort individual buckets and concatenate the result\n",
    "    sorted_array = [num for bucket in buckets for num in sorted(bucket)]\n",
    "    \n",
    "    return sorted_array\n",
    "\n",
    "bucketSort(b)"
   ]
  }
 ],
 "metadata": {
  "kernelspec": {
   "display_name": "Python 3",
   "language": "python",
   "name": "python3"
  },
  "language_info": {
   "codemirror_mode": {
    "name": "ipython",
    "version": 3
   },
   "file_extension": ".py",
   "mimetype": "text/x-python",
   "name": "python",
   "nbconvert_exporter": "python",
   "pygments_lexer": "ipython3",
   "version": "3.12.5"
  }
 },
 "nbformat": 4,
 "nbformat_minor": 2
}
