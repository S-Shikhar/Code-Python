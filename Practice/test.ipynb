{
 "cells": [
  {
   "cell_type": "code",
   "execution_count": null,
   "metadata": {},
   "outputs": [],
   "source": [
    "a = []\n",
    "for i in range(0, 10):\n",
    "    a.append(int(input(\"Enter the number: \")))\n",
    "\n",
    "print(\"The list is: \", a)\n",
    "print(type(a[0]))"
   ]
  },
  {
   "cell_type": "code",
   "execution_count": null,
   "metadata": {},
   "outputs": [],
   "source": [
    "for i in range(0, len(a) - 1):\n",
    "    for j in range(0, len(a) - i - 1):\n",
    "        if a[j] > a[j+1]:\n",
    "            a[j], a[j+1] = a[j+1], a[j]\n",
    "\n",
    "print(\"The sorted list is: \", a)"
   ]
  },
  {
   "cell_type": "markdown",
   "metadata": {},
   "source": [
    "## Set"
   ]
  },
  {
   "cell_type": "code",
   "execution_count": null,
   "metadata": {},
   "outputs": [],
   "source": [
    "a = set()\n",
    "a = {}   # This is a dictionary\n",
    "\n",
    "a = {1, 2, 4, 5, 3}\n",
    "\n",
    "print(a)\n",
    "print(type(a))"
   ]
  },
  {
   "cell_type": "code",
   "execution_count": null,
   "metadata": {},
   "outputs": [],
   "source": [
    "a.add(int(input(\"Enter the number to add: \")))\n",
    "a.remove(int(input(\"Enter the number to remove: \")))\n",
    "a.pop()\n",
    "a.clear()\n",
    "\n",
    "print(a)"
   ]
  },
  {
   "cell_type": "markdown",
   "metadata": {},
   "source": [
    "## Tuple"
   ]
  },
  {
   "cell_type": "code",
   "execution_count": null,
   "metadata": {},
   "outputs": [],
   "source": [
    "a = ()\n",
    "a = tuple()\n",
    "\n",
    "a = 1, 2, 3, 4, 5\n",
    "a = (1, 2, 3, 4, 5)\n",
    "\n",
    "print(a)\n",
    "print(type(a))\n",
    "\n",
    "print(3 in a)"
   ]
  },
  {
   "cell_type": "code",
   "execution_count": null,
   "metadata": {},
   "outputs": [],
   "source": [
    "print(a.count(1))\n",
    "print(a.index(1))"
   ]
  },
  {
   "cell_type": "code",
   "execution_count": null,
   "metadata": {},
   "outputs": [],
   "source": [
    "a1 = (1, 2, 3)\n",
    "\n",
    "x, y, z = a1\n",
    "\n",
    "print(x, y, z)"
   ]
  },
  {
   "cell_type": "code",
   "execution_count": null,
   "metadata": {},
   "outputs": [],
   "source": []
  },
  {
   "cell_type": "code",
   "execution_count": null,
   "metadata": {},
   "outputs": [],
   "source": []
  },
  {
   "cell_type": "markdown",
   "metadata": {},
   "source": [
    "## Dictionary"
   ]
  },
  {
   "cell_type": "code",
   "execution_count": null,
   "metadata": {},
   "outputs": [],
   "source": [
    "a = {}\n",
    "a = dict()\n",
    "\n",
    "a = {\n",
    "        1: \"One\", \n",
    "        2: \"Two\", \n",
    "        3: \"Three\",\n",
    "        4: \"four\"\n",
    "    }\n",
    "\n",
    "print(a)\n",
    "print(type(a))\n",
    "\n",
    "print(a[1])\n",
    "\n",
    "print(a.get(1))\n",
    "print(a.get(6))\n",
    "print(a.get(1, \"Not found\"))\n",
    "    "
   ]
  },
  {
   "cell_type": "code",
   "execution_count": null,
   "metadata": {},
   "outputs": [],
   "source": [
    "a.update({5: \"Five\"}) \n",
    "# a.pop(1)\n",
    "a.popitem()  \n",
    "a.clear()\n",
    "\n",
    "print(a)"
   ]
  },
  {
   "cell_type": "code",
   "execution_count": null,
   "metadata": {},
   "outputs": [],
   "source": [
    "list = a.keys()\n",
    "list1 = a.values()\n",
    "list2 = a.items()\n",
    "\n",
    "print(list)\n",
    "print(list1)\n",
    "print(list2)\n",
    "print(type(list2))"
   ]
  },
  {
   "cell_type": "code",
   "execution_count": null,
   "metadata": {},
   "outputs": [],
   "source": [
    "for keys, values in a.items():\n",
    "    print(keys, values)\n",
    "\n",
    "for i in a.values():\n",
    "    print(i)"
   ]
  },
  {
   "cell_type": "markdown",
   "metadata": {},
   "source": [
    "## Functions"
   ]
  },
  {
   "cell_type": "code",
   "execution_count": 1,
   "metadata": {},
   "outputs": [
    {
     "name": "stdout",
     "output_type": "stream",
     "text": [
      "3\n"
     ]
    }
   ],
   "source": [
    "def sum(a, b):\n",
    "    return a + b\n",
    "\n",
    "print(sum(1, 2))"
   ]
  },
  {
   "cell_type": "code",
   "execution_count": 2,
   "metadata": {},
   "outputs": [
    {
     "name": "stdout",
     "output_type": "stream",
     "text": [
      "3\n"
     ]
    }
   ],
   "source": [
    "a = lambda a, b: a + b\n",
    "\n",
    "print(a(1, 2))"
   ]
  },
  {
   "cell_type": "code",
   "execution_count": 3,
   "metadata": {},
   "outputs": [
    {
     "data": {
      "text/plain": [
       "[1, 2, 3, 4, 5]"
      ]
     },
     "execution_count": 3,
     "metadata": {},
     "output_type": "execute_result"
    }
   ],
   "source": [
    "def dup(a):\n",
    "    s = set(a)\n",
    "    return list(s)\n",
    "\n",
    "a = [1, 2, 3, 4, 5, 1, 2, 3, 4, 5]\n",
    "b = dup(a)\n",
    "b"
   ]
  },
  {
   "cell_type": "markdown",
   "metadata": {},
   "source": [
    "## File i/o"
   ]
  },
  {
   "cell_type": "code",
   "execution_count": 9,
   "metadata": {},
   "outputs": [
    {
     "name": "stdout",
     "output_type": "stream",
     "text": [
      "File exists\n"
     ]
    }
   ],
   "source": [
    "import os\n",
    "\n",
    "path = \"hello.txt\"\n",
    "\n",
    "if os.path.exists(path):\n",
    "    if os.path.isfile(path):\n",
    "        print(\"File exists\")\n",
    "    elif os.path.isdir(path):\n",
    "        print(\"Directory exists\")\n",
    "else:\n",
    "    print(\"File does not exist\")"
   ]
  },
  {
   "cell_type": "code",
   "execution_count": null,
   "metadata": {},
   "outputs": [],
   "source": [
    "if os.path.exists(path):\n",
    "    with open(path, \"w\") as f:\n",
    "        f.write(\"Hello World\")   \n",
    "    "
   ]
  },
  {
   "cell_type": "code",
   "execution_count": 13,
   "metadata": {},
   "outputs": [
    {
     "name": "stdout",
     "output_type": "stream",
     "text": [
      "Hello World\n"
     ]
    }
   ],
   "source": [
    "if os.path.exists(path):\n",
    "    with open(path, \"r\") as f:\n",
    "        print(f.read())"
   ]
  },
  {
   "cell_type": "code",
   "execution_count": 23,
   "metadata": {},
   "outputs": [],
   "source": [
    "if os.path.exists(path):\n",
    "    with open (path, \"a\") as f:\n",
    "        f.write(\"Souharda Shikhar Biswas\")"
   ]
  },
  {
   "cell_type": "code",
   "execution_count": null,
   "metadata": {},
   "outputs": [
    {
     "name": "stdout",
     "output_type": "stream",
     "text": [
      "Souharda Shikhar Biswas\n",
      "\n"
     ]
    }
   ],
   "source": [
    "if os.path.exists(path):\n",
    "    with open(path, \"r+\") as f:\n",
    "        print(f.read())\n",
    "        f.write(\"Souharda Shikhar Biswas\")\n",
    "    "
   ]
  },
  {
   "cell_type": "code",
   "execution_count": 25,
   "metadata": {},
   "outputs": [
    {
     "name": "stdout",
     "output_type": "stream",
     "text": [
      "\n"
     ]
    }
   ],
   "source": [
    "if os.path.exists(path):\n",
    "    with open(path, \"w+\") as f:\n",
    "        f.write(\"Souharda Shikhar Biswas\")\n",
    "        print(f.read())"
   ]
  },
  {
   "cell_type": "code",
   "execution_count": 29,
   "metadata": {},
   "outputs": [],
   "source": [
    "if os.path.exists(path):\n",
    "    with open(path, \"r\") as f:\n",
    "        con = f.read()\n",
    "\n",
    "path2 = \"hello2.txt\"\n",
    "\n",
    "with open(path2, \"w\") as f:\n",
    "    f.write(con)"
   ]
  },
  {
   "cell_type": "code",
   "execution_count": 31,
   "metadata": {},
   "outputs": [
    {
     "data": {
      "text/plain": [
       "'hello2.txt'"
      ]
     },
     "execution_count": 31,
     "metadata": {},
     "output_type": "execute_result"
    }
   ],
   "source": [
    "import shutil\n",
    "\n",
    "shutil.copy(path, path2)"
   ]
  },
  {
   "cell_type": "code",
   "execution_count": 32,
   "metadata": {},
   "outputs": [],
   "source": [
    "os.rename(path2, \"hello3.txt\")"
   ]
  },
  {
   "cell_type": "code",
   "execution_count": 33,
   "metadata": {},
   "outputs": [],
   "source": [
    "os.replace(\"hello3.txt\", \"h/ello4.txt\")"
   ]
  },
  {
   "cell_type": "code",
   "execution_count": 37,
   "metadata": {},
   "outputs": [
    {
     "name": "stdout",
     "output_type": "stream",
     "text": [
      "File does not exist\n",
      "Finally block\n"
     ]
    }
   ],
   "source": [
    "import os\n",
    "\n",
    "path = \"hello4.txt\"\n",
    "\n",
    "try :\n",
    "    with open(path, \"r\") as f:\n",
    "        print(f.read())\n",
    "except FileNotFoundError:\n",
    "    print(\"File does not exist\")\n",
    "except Exception as e:\n",
    "    print(e)\n",
    "finally:\n",
    "    print(\"Finally block\")\n",
    "    "
   ]
  },
  {
   "cell_type": "markdown",
   "metadata": {},
   "source": [
    "## OOP"
   ]
  },
  {
   "cell_type": "code",
   "execution_count": null,
   "metadata": {},
   "outputs": [
    {
     "name": "stdout",
     "output_type": "stream",
     "text": [
      "a =  10 \n",
      "b =  20\n"
     ]
    }
   ],
   "source": [
    "class A:\n",
    "    a = 10\n",
    "    b = 20\n",
    "    c = 30\n",
    "\n",
    "    def show(self):\n",
    "        print(\"a = \", self.a, \"\\nb = \", self.b)  ## self is the object of the class \n",
    "        print(f\"c = {self.c}\")  ## f-string is used to format the string\n",
    "\n",
    "s = A()\n",
    "s.show()\n"
   ]
  },
  {
   "cell_type": "code",
   "execution_count": null,
   "metadata": {},
   "outputs": [
    {
     "name": "stdout",
     "output_type": "stream",
     "text": [
      "9\n"
     ]
    }
   ],
   "source": [
    "class B:\n",
    "    def getValue(self, val):\n",
    "        self.a = val\n",
    "    \n",
    "    def suare(self):\n",
    "        return self.a ** 2\n",
    "\n",
    "obj = B()\n",
    "s = int(input(\"Enter the value: \"))\n",
    "\n",
    "obj.getValue(s)\n",
    "print(obj.suare())"
   ]
  },
  {
   "cell_type": "code",
   "execution_count": 4,
   "metadata": {},
   "outputs": [
    {
     "name": "stdout",
     "output_type": "stream",
     "text": [
      "53824\n"
     ]
    }
   ],
   "source": [
    "class C:\n",
    "    def __init__(self, val):\n",
    "        self.a = val\n",
    "\n",
    "    def suare(self):\n",
    "        return self.a ** 2\n",
    "\n",
    "# obj = C(5)\n",
    "obj = C(int(input(\"Enter the value: \")))\n",
    "print(obj.suare())"
   ]
  },
  {
   "cell_type": "code",
   "execution_count": null,
   "metadata": {},
   "outputs": [
    {
     "name": "stdout",
     "output_type": "stream",
     "text": [
      "6\n",
      "3\n"
     ]
    }
   ],
   "source": [
    "class D:\n",
    "    # def add(self, a, b):\n",
    "    #     return a + b\n",
    "    \n",
    "    def add(self, a, b, c = 0):\n",
    "        return a + b + c\n",
    "    \n",
    "    def add(self, *args):\n",
    "        return (args[0] + args[1] + args[2])\n",
    "\n",
    "obj = D()\n",
    "\n",
    "print(obj.add(1, 2, 3)) ## Positional arguments\n",
    "print(obj.add(1, 2))    ## Default arguments\n",
    "\n",
    "print(obj.add(a = 1, b = 2, c = 3))  ## Keyword arguments\n",
    "print(obj.add(b = 2, a = 1, c = 3))  ## Keyword arguments can be passed in any order\n",
    "print(obj.add(1, b = 2, c = 3))  ## Positional and keyword arguments can be passed together\n",
    "\n"
   ]
  },
  {
   "cell_type": "code",
   "execution_count": 12,
   "metadata": {},
   "outputs": [
    {
     "name": "stdout",
     "output_type": "stream",
     "text": [
      "d is an animal\n",
      "d eats meat\n",
      "c is an animal\n",
      "c eats fish\n"
     ]
    }
   ],
   "source": [
    "class Animal:\n",
    "    def __init__(self, name):\n",
    "        self.name = name\n",
    "        print(f\"{name} is an animal\")\n",
    "\n",
    "class Dog(Animal):\n",
    "    def food(self):\n",
    "        print(f\"{self.name} eats meat\")\n",
    "\n",
    "class Cat(Animal):\n",
    "    def food(self):\n",
    "        print(f\"{self.name} eats fish\")\n",
    "\n",
    "d = Dog(input(\"Enter the name of the dog: \"))\n",
    "d.food()\n",
    "\n",
    "c = Cat(input(\"Enter the name of the cat: \"))\n",
    "c.food()"
   ]
  },
  {
   "cell_type": "code",
   "execution_count": null,
   "metadata": {},
   "outputs": [
    {
     "name": "stdout",
     "output_type": "stream",
     "text": [
      "3\n"
     ]
    }
   ],
   "source": [
    "## Static method\n",
    "\n",
    "class F:\n",
    "    def add(a, b):\n",
    "        return a + b\n",
    "\n",
    "print(F.add(1, 2))   ## Static method can be called without creating an object of the class"
   ]
  },
  {
   "cell_type": "markdown",
   "metadata": {},
   "source": [
    "## numPy"
   ]
  },
  {
   "cell_type": "code",
   "execution_count": null,
   "metadata": {},
   "outputs": [],
   "source": [
    "import numpy as np\n",
    "\n",
    "a = np.array([1, 2, 3, 4, 5]) ## 1D array\n",
    "print(a, \"\\n\")\n",
    "\n",
    "b = np.array([[1, 2, 3], [4, 5, 6]], dtype= \"int64\") ## 2D array\n",
    "print(b, \"\\n\")\n",
    "\n",
    "print(\"for a: \\n\")\n",
    "print(a.ndim) ## Dimension of the array\n",
    "print(a.shape) ## Shape of the array\n",
    "print(a.size) ## Size of the array\n",
    "print(a.dtype) ## Data type of the array\n",
    "print(a.itemsize) ## Size of each element in the array\n",
    "print(a.nbytes) ## Total size of the array\n",
    "print(a.strides) ## Number of bytes to jump to get to the next element\n",
    "\n",
    "print(\"\\n\\nfor b: \\n\")\n",
    "print(b.ndim) ## Dimension of the array\n",
    "print(b.shape) ## Shape of the array\n",
    "print(b.size) ## Size of the array\n",
    "print(b.dtype) ## Data type of the array\n",
    "print(b.itemsize) ## Size of each element in the array\n",
    "print(b.nbytes) ## Total size of the array\n",
    "print(b.strides) ## Number of bytes to jump to get to the next element\n"
   ]
  },
  {
   "cell_type": "code",
   "execution_count": null,
   "metadata": {},
   "outputs": [
    {
     "name": "stdout",
     "output_type": "stream",
     "text": [
      "[1 2 3 4 5] \n",
      "\n"
     ]
    }
   ],
   "source": [
    "import numpy as np\n",
    "\n",
    "a = np.array([1, 2, 3, 4, 5]) ## 1D array\n",
    "print(a, \"\\n\")"
   ]
  },
  {
   "cell_type": "markdown",
   "metadata": {},
   "source": [
    "## Pandas"
   ]
  },
  {
   "cell_type": "code",
   "execution_count": null,
   "metadata": {},
   "outputs": [
    {
     "name": "stdout",
     "output_type": "stream",
     "text": [
      "   a   b   c\n",
      "0  1   6  11\n",
      "1  2   7  12\n",
      "2  3   8  13\n",
      "3  4   9  14\n",
      "4  5  10  15\n"
     ]
    }
   ],
   "source": [
    "import pandas as pd\n",
    "\n",
    "df = pd.DataFrame({\n",
    "    \"a\" : [1, 2, 3, 4, 5],\n",
    "    \"b\" : [6, 7, 8, 9, 10],\n",
    "    \"c\" : [11, 12, 13, 14, 15] \n",
    "})\n",
    "\n",
    "print(df)"
   ]
  },
  {
   "cell_type": "code",
   "execution_count": null,
   "metadata": {},
   "outputs": [],
   "source": [
    "df = pd.read_csv(\"coffee.csv\")\n",
    "print(df)"
   ]
  },
  {
   "cell_type": "code",
   "execution_count": null,
   "metadata": {},
   "outputs": [
    {
     "name": "stdout",
     "output_type": "stream",
     "text": [
      "Index(['Day', 'Coffee Type', 'Units Sold'], dtype='object')\n",
      "RangeIndex(start=0, stop=14, step=1)\n"
     ]
    },
    {
     "data": {
      "text/plain": [
       "array(['Espresso', 'Latte'], dtype=object)"
      ]
     },
     "execution_count": 47,
     "metadata": {},
     "output_type": "execute_result"
    }
   ],
   "source": [
    "df.head()   ## First 5 rows of the data frame\n",
    "df.head(10) ## First 10 rows of the data frame\n",
    "\n",
    "df.tail()   ## Last 5 rows of the data frame\n",
    "df.tail(10) ## Last 10 rows of the data frame\n",
    "\n",
    "df.shape ## Shape of the data frame\n",
    "print(df.columns) ## Columns of the data frame\n",
    "\n",
    "print(df.index) ## Index of the data frame\n",
    "df.index.tolist() ## Index of the data frame as a list\n",
    "\n",
    "df.describe() ## Descriptive statistics of the data frame\n",
    "# df.info() ## Information about the data frame\n",
    "\n",
    "df[\"Coffee Type\"] ## Accessing a column of the data frame\n",
    "df[\"Coffee Type\"].unique() ## Unique values in the column"
   ]
  }
 ],
 "metadata": {
  "kernelspec": {
   "display_name": "Python 3",
   "language": "python",
   "name": "python3"
  },
  "language_info": {
   "codemirror_mode": {
    "name": "ipython",
    "version": 3
   },
   "file_extension": ".py",
   "mimetype": "text/x-python",
   "name": "python",
   "nbconvert_exporter": "python",
   "pygments_lexer": "ipython3",
   "version": "3.12.5"
  }
 },
 "nbformat": 4,
 "nbformat_minor": 2
}
